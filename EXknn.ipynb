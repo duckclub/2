{
  "nbformat": 4,
  "nbformat_minor": 0,
  "metadata": {
    "colab": {
      "name": "EXknn.ipynb",
      "provenance": []
    },
    "kernelspec": {
      "name": "python3",
      "display_name": "Python 3"
    },
    "language_info": {
      "name": "python"
    }
  },
  "cells": [
    {
      "cell_type": "markdown",
      "source": [
        "### **IRIS**          dataset uploaded from  sklearn.datasets"
      ],
      "metadata": {
        "id": "-T_reKy9JmDc"
      }
    },
    {
      "cell_type": "markdown",
      "source": [
        "KNN Algo\n",
        "1. Load the data\n",
        "2. Divide the data into training data and test data\n",
        "3. Initialise the value of k\n",
        "4. Calculate the Euclidean distance between the test data and\n",
        "each of the training data\n",
        "5. Find k number of nearest neighbours having minimum distance\n",
        "values\n",
        "6. Get the most frequent class of these neighbours\n",
        "7. This will be the predicted class"
      ],
      "metadata": {
        "id": "9JAToA6wYagO"
      }
    },
    {
      "cell_type": "code",
      "execution_count": null,
      "metadata": {
        "id": "Mx5PfC-mGY5i"
      },
      "outputs": [],
      "source": [
        "from sklearn.datasets import load_iris"
      ]
    },
    {
      "cell_type": "code",
      "source": [
        "iris = load_iris()"
      ],
      "metadata": {
        "id": "LuN2E13AGkF5"
      },
      "execution_count": null,
      "outputs": []
    },
    {
      "cell_type": "code",
      "source": [
        "x = iris.data "
      ],
      "metadata": {
        "id": "Fq3HRaYFGnKq"
      },
      "execution_count": null,
      "outputs": []
    },
    {
      "cell_type": "code",
      "source": [
        "y = iris.target\n",
        "y"
      ],
      "metadata": {
        "id": "n70IZFkBGp_o",
        "colab": {
          "base_uri": "https://localhost:8080/"
        },
        "outputId": "3440d467-6cb2-4ec7-c41f-49e5bc7d760c"
      },
      "execution_count": null,
      "outputs": [
        {
          "output_type": "execute_result",
          "data": {
            "text/plain": [
              "array([0, 0, 0, 0, 0, 0, 0, 0, 0, 0, 0, 0, 0, 0, 0, 0, 0, 0, 0, 0, 0, 0,\n",
              "       0, 0, 0, 0, 0, 0, 0, 0, 0, 0, 0, 0, 0, 0, 0, 0, 0, 0, 0, 0, 0, 0,\n",
              "       0, 0, 0, 0, 0, 0, 1, 1, 1, 1, 1, 1, 1, 1, 1, 1, 1, 1, 1, 1, 1, 1,\n",
              "       1, 1, 1, 1, 1, 1, 1, 1, 1, 1, 1, 1, 1, 1, 1, 1, 1, 1, 1, 1, 1, 1,\n",
              "       1, 1, 1, 1, 1, 1, 1, 1, 1, 1, 1, 1, 2, 2, 2, 2, 2, 2, 2, 2, 2, 2,\n",
              "       2, 2, 2, 2, 2, 2, 2, 2, 2, 2, 2, 2, 2, 2, 2, 2, 2, 2, 2, 2, 2, 2,\n",
              "       2, 2, 2, 2, 2, 2, 2, 2, 2, 2, 2, 2, 2, 2, 2, 2, 2, 2])"
            ]
          },
          "metadata": {},
          "execution_count": 267
        }
      ]
    },
    {
      "cell_type": "code",
      "source": [
        "from sklearn.model_selection import train_test_split "
      ],
      "metadata": {
        "id": "MB9MJ-ICGuo-"
      },
      "execution_count": null,
      "outputs": []
    },
    {
      "cell_type": "code",
      "source": [
        "x_train,x_test,y_train,y_test = train_test_split(x,y,test_size=0.5,random_state=1)\n"
      ],
      "metadata": {
        "id": "6LuAKzPFHAp1"
      },
      "execution_count": null,
      "outputs": []
    },
    {
      "cell_type": "code",
      "source": [
        "from sklearn.neighbors import KNeighborsClassifier"
      ],
      "metadata": {
        "id": "phVtO05dHST5"
      },
      "execution_count": null,
      "outputs": []
    },
    {
      "cell_type": "code",
      "source": [
        "cknn = KNeighborsClassifier(n_neighbors=3)\n"
      ],
      "metadata": {
        "id": "sMrY1uo2HaTM"
      },
      "execution_count": null,
      "outputs": []
    },
    {
      "cell_type": "code",
      "source": [
        "cknn.fit(x_train,y_train)"
      ],
      "metadata": {
        "colab": {
          "base_uri": "https://localhost:8080/"
        },
        "id": "eGHNF-ExHzMZ",
        "outputId": "e587e2a9-d001-4a02-99db-8045a0a5e1dc"
      },
      "execution_count": null,
      "outputs": [
        {
          "output_type": "execute_result",
          "data": {
            "text/plain": [
              "KNeighborsClassifier(n_neighbors=3)"
            ]
          },
          "metadata": {},
          "execution_count": 272
        }
      ]
    },
    {
      "cell_type": "code",
      "source": [
        "y_pred = cknn.predict(x_test)"
      ],
      "metadata": {
        "id": "kP2PAEQxH6Cq"
      },
      "execution_count": null,
      "outputs": []
    },
    {
      "cell_type": "code",
      "source": [
        "from sklearn import metrics"
      ],
      "metadata": {
        "id": "oKtoe42VICRY"
      },
      "execution_count": null,
      "outputs": []
    },
    {
      "cell_type": "code",
      "source": [
        "print(\"Accuracy:\",metrics.accuracy_score(y_test,y_pred))"
      ],
      "metadata": {
        "colab": {
          "base_uri": "https://localhost:8080/"
        },
        "id": "ElJirsrIIISg",
        "outputId": "809991bd-711d-4815-d46b-26cb84c239e2"
      },
      "execution_count": null,
      "outputs": [
        {
          "output_type": "stream",
          "name": "stdout",
          "text": [
            "Accuracy: 0.92\n"
          ]
        }
      ]
    },
    {
      "cell_type": "code",
      "source": [
        "x_test"
      ],
      "metadata": {
        "colab": {
          "base_uri": "https://localhost:8080/"
        },
        "id": "wKTQ-flzNDLb",
        "outputId": "6999ab23-662f-48af-dea0-59366f057d9b"
      },
      "execution_count": null,
      "outputs": [
        {
          "output_type": "execute_result",
          "data": {
            "text/plain": [
              "array([[5.8, 4. , 1.2, 0.2],\n",
              "       [5.1, 2.5, 3. , 1.1],\n",
              "       [6.6, 3. , 4.4, 1.4],\n",
              "       [5.4, 3.9, 1.3, 0.4],\n",
              "       [7.9, 3.8, 6.4, 2. ],\n",
              "       [6.3, 3.3, 4.7, 1.6],\n",
              "       [6.9, 3.1, 5.1, 2.3],\n",
              "       [5.1, 3.8, 1.9, 0.4],\n",
              "       [4.7, 3.2, 1.6, 0.2],\n",
              "       [6.9, 3.2, 5.7, 2.3],\n",
              "       [5.6, 2.7, 4.2, 1.3],\n",
              "       [5.4, 3.9, 1.7, 0.4],\n",
              "       [7.1, 3. , 5.9, 2.1],\n",
              "       [6.4, 3.2, 4.5, 1.5],\n",
              "       [6. , 2.9, 4.5, 1.5],\n",
              "       [4.4, 3.2, 1.3, 0.2],\n",
              "       [5.8, 2.6, 4. , 1.2],\n",
              "       [5.6, 3. , 4.5, 1.5],\n",
              "       [5.4, 3.4, 1.5, 0.4],\n",
              "       [5. , 3.2, 1.2, 0.2],\n",
              "       [5.5, 2.6, 4.4, 1.2],\n",
              "       [5.4, 3. , 4.5, 1.5],\n",
              "       [6.7, 3. , 5. , 1.7],\n",
              "       [5. , 3.5, 1.3, 0.3],\n",
              "       [7.2, 3.2, 6. , 1.8],\n",
              "       [5.7, 2.8, 4.1, 1.3],\n",
              "       [5.5, 4.2, 1.4, 0.2],\n",
              "       [5.1, 3.8, 1.5, 0.3],\n",
              "       [6.1, 2.8, 4.7, 1.2],\n",
              "       [6.3, 2.5, 5. , 1.9],\n",
              "       [6.1, 3. , 4.6, 1.4],\n",
              "       [7.7, 3. , 6.1, 2.3],\n",
              "       [5.6, 2.5, 3.9, 1.1],\n",
              "       [6.4, 2.8, 5.6, 2.1],\n",
              "       [5.8, 2.8, 5.1, 2.4],\n",
              "       [5.3, 3.7, 1.5, 0.2],\n",
              "       [5.5, 2.3, 4. , 1.3],\n",
              "       [5.2, 3.4, 1.4, 0.2],\n",
              "       [6.5, 2.8, 4.6, 1.5],\n",
              "       [6.7, 2.5, 5.8, 1.8],\n",
              "       [6.8, 3. , 5.5, 2.1],\n",
              "       [5.1, 3.5, 1.4, 0.3],\n",
              "       [6. , 2.2, 5. , 1.5],\n",
              "       [6.3, 2.9, 5.6, 1.8],\n",
              "       [6.6, 2.9, 4.6, 1.3],\n",
              "       [7.7, 2.6, 6.9, 2.3],\n",
              "       [5.7, 3.8, 1.7, 0.3],\n",
              "       [5. , 3.6, 1.4, 0.2],\n",
              "       [4.8, 3. , 1.4, 0.3],\n",
              "       [5.2, 2.7, 3.9, 1.4],\n",
              "       [5.1, 3.4, 1.5, 0.2],\n",
              "       [5.5, 3.5, 1.3, 0.2],\n",
              "       [7.7, 3.8, 6.7, 2.2],\n",
              "       [6.9, 3.1, 5.4, 2.1],\n",
              "       [7.3, 2.9, 6.3, 1.8],\n",
              "       [6.4, 2.8, 5.6, 2.2],\n",
              "       [6.2, 2.8, 4.8, 1.8],\n",
              "       [6. , 3.4, 4.5, 1.6],\n",
              "       [7.7, 2.8, 6.7, 2. ],\n",
              "       [5.7, 3. , 4.2, 1.2],\n",
              "       [4.8, 3.4, 1.6, 0.2],\n",
              "       [5.7, 2.5, 5. , 2. ],\n",
              "       [6.3, 2.7, 4.9, 1.8],\n",
              "       [4.8, 3. , 1.4, 0.1],\n",
              "       [4.7, 3.2, 1.3, 0.2],\n",
              "       [6.5, 3. , 5.8, 2.2],\n",
              "       [4.6, 3.4, 1.4, 0.3],\n",
              "       [6.1, 3. , 4.9, 1.8],\n",
              "       [6.5, 3.2, 5.1, 2. ],\n",
              "       [6.7, 3.1, 4.4, 1.4],\n",
              "       [5.7, 2.8, 4.5, 1.3],\n",
              "       [6.7, 3.3, 5.7, 2.5],\n",
              "       [6. , 3. , 4.8, 1.8],\n",
              "       [5.1, 3.8, 1.6, 0.2],\n",
              "       [6. , 2.2, 4. , 1. ]])"
            ]
          },
          "metadata": {},
          "execution_count": 276
        }
      ]
    },
    {
      "cell_type": "code",
      "source": [
        "sample=[[10,2,2,2,]]\n"
      ],
      "metadata": {
        "id": "3_4fFV1cIdmj"
      },
      "execution_count": null,
      "outputs": []
    },
    {
      "cell_type": "code",
      "source": [
        "pred = cknn.predict(sample)"
      ],
      "metadata": {
        "id": "GZPaVSdiIo6O"
      },
      "execution_count": null,
      "outputs": []
    },
    {
      "cell_type": "code",
      "source": [
        "pred_v = [iris.target_names[p] for p in pred]"
      ],
      "metadata": {
        "id": "o5WLK2ZVIygn"
      },
      "execution_count": null,
      "outputs": []
    },
    {
      "cell_type": "code",
      "source": [
        "pred_v"
      ],
      "metadata": {
        "colab": {
          "base_uri": "https://localhost:8080/"
        },
        "id": "s8--B2HCI5DD",
        "outputId": "5214c752-e297-45f6-df63-8c8407dfb270"
      },
      "execution_count": null,
      "outputs": [
        {
          "output_type": "execute_result",
          "data": {
            "text/plain": [
              "['versicolor']"
            ]
          },
          "metadata": {},
          "execution_count": 280
        }
      ]
    },
    {
      "cell_type": "code",
      "source": [
        "import matplotlib.pyplot as plt\n",
        "plt.plot(y_test,y_pred)"
      ],
      "metadata": {
        "colab": {
          "base_uri": "https://localhost:8080/",
          "height": 282
        },
        "id": "grjOgUf0KHWK",
        "outputId": "5c92232a-738a-4a5c-ec19-55909145dc76"
      },
      "execution_count": null,
      "outputs": [
        {
          "output_type": "execute_result",
          "data": {
            "text/plain": [
              "[<matplotlib.lines.Line2D at 0x7f2cde06a310>]"
            ]
          },
          "metadata": {},
          "execution_count": 281
        },
        {
          "output_type": "display_data",
          "data": {
            "text/plain": [
              "<Figure size 432x288 with 1 Axes>"
            ],
            "image/png": "[encoded data removed]"
          },
          "metadata": {
            "needs_background": "light"
          }
        }
      ]
    },
    {
      "cell_type": "code",
      "source": [
        "from sklearn.metrics import confusion_matrix\n",
        "from sklearn.metrics import classification_report\n",
        "print(confusion_matrix(y_test,y_pred))\n",
        "print(classification_report(y_test,y_pred))"
      ],
      "metadata": {
        "colab": {
          "base_uri": "https://localhost:8080/"
        },
        "id": "x39VsHKOKYIN",
        "outputId": "95668a95-4cf2-4747-d92e-c93812985307"
      },
      "execution_count": null,
      "outputs": [
        {
          "output_type": "stream",
          "name": "stdout",
          "text": [
            "[[24  0  0]\n",
            " [ 0 24  0]\n",
            " [ 0  6 21]]\n",
            "              precision    recall  f1-score   support\n",
            "\n",
            "           0       1.00      1.00      1.00        24\n",
            "           1       0.80      1.00      0.89        24\n",
            "           2       1.00      0.78      0.88        27\n",
            "\n",
            "    accuracy                           0.92        75\n",
            "   macro avg       0.93      0.93      0.92        75\n",
            "weighted avg       0.94      0.92      0.92        75\n",
            "\n"
          ]
        }
      ]
    },
    {
      "cell_type": "markdown",
      "source": [
        "## Sonar\n",
        "dataset uploaded"
      ],
      "metadata": {
        "id": "ezXAtPJKJ3xP"
      }
    },
    {
      "cell_type": "code",
      "source": [
        "import pandas as pd "
      ],
      "metadata": {
        "id": "I79qYCZ-JLoL"
      },
      "execution_count": null,
      "outputs": []
    },
    {
      "cell_type": "code",
      "source": [
        "df = pd.read_csv(\"/content/sample_data/sonar_csv.csv\")"
      ],
      "metadata": {
        "id": "19LpoxMSLJyU"
      },
      "execution_count": null,
      "outputs": []
    },
    {
      "cell_type": "code",
      "source": [
        "df"
      ],
      "metadata": {
        "colab": {
          "base_uri": "https://localhost:8080/",
          "height": 488
        },
        "id": "mPr0Wi_2LXpM",
        "outputId": "ad1af4de-3781-40e1-a576-28322169603a"
      },
      "execution_count": null,
      "outputs": [
        {
          "output_type": "execute_result",
          "data": {
            "text/plain": [
              "     attribute_1  attribute_2  attribute_3  attribute_4  attribute_5  \\\n",
              "0         0.0200       0.0371       0.0428       0.0207       0.0954   \n",
              "1         0.0453       0.0523       0.0843       0.0689       0.1183   \n",
              "2         0.0262       0.0582       0.1099       0.1083       0.0974   \n",
              "3         0.0100       0.0171       0.0623       0.0205       0.0205   \n",
              "4         0.0762       0.0666       0.0481       0.0394       0.0590   \n",
              "..           ...          ...          ...          ...          ...   \n",
              "203       0.0187       0.0346       0.0168       0.0177       0.0393   \n",
              "204       0.0323       0.0101       0.0298       0.0564       0.0760   \n",
              "205       0.0522       0.0437       0.0180       0.0292       0.0351   \n",
              "206       0.0303       0.0353       0.0490       0.0608       0.0167   \n",
              "207       0.0260       0.0363       0.0136       0.0272       0.0214   \n",
              "\n",
              "     attribute_6  attribute_7  attribute_8  attribute_9  attribute_10  ...  \\\n",
              "0         0.0986       0.1539       0.1601       0.3109        0.2111  ...   \n",
              "1         0.2583       0.2156       0.3481       0.3337        0.2872  ...   \n",
              "2         0.2280       0.2431       0.3771       0.5598        0.6194  ...   \n",
              "3         0.0368       0.1098       0.1276       0.0598        0.1264  ...   \n",
              "4         0.0649       0.1209       0.2467       0.3564        0.4459  ...   \n",
              "..           ...          ...          ...          ...           ...  ...   \n",
              "203       0.1630       0.2028       0.1694       0.2328        0.2684  ...   \n",
              "204       0.0958       0.0990       0.1018       0.1030        0.2154  ...   \n",
              "205       0.1171       0.1257       0.1178       0.1258        0.2529  ...   \n",
              "206       0.1354       0.1465       0.1123       0.1945        0.2354  ...   \n",
              "207       0.0338       0.0655       0.1400       0.1843        0.2354  ...   \n",
              "\n",
              "     attribute_52  attribute_53  attribute_54  attribute_55  attribute_56  \\\n",
              "0          0.0027        0.0065        0.0159        0.0072        0.0167   \n",
              "1          0.0084        0.0089        0.0048        0.0094        0.0191   \n",
              "2          0.0232        0.0166        0.0095        0.0180        0.0244   \n",
              "3          0.0121        0.0036        0.0150        0.0085        0.0073   \n",
              "4          0.0031        0.0054        0.0105        0.0110        0.0015   \n",
              "..            ...           ...           ...           ...           ...   \n",
              "203        0.0116        0.0098        0.0199        0.0033        0.0101   \n",
              "204        0.0061        0.0093        0.0135        0.0063        0.0063   \n",
              "205        0.0160        0.0029        0.0051        0.0062        0.0089   \n",
              "206        0.0086        0.0046        0.0126        0.0036        0.0035   \n",
              "207        0.0146        0.0129        0.0047        0.0039        0.0061   \n",
              "\n",
              "     attribute_57  attribute_58  attribute_59  attribute_60  Class  \n",
              "0          0.0180        0.0084        0.0090        0.0032   Rock  \n",
              "1          0.0140        0.0049        0.0052        0.0044   Rock  \n",
              "2          0.0316        0.0164        0.0095        0.0078   Rock  \n",
              "3          0.0050        0.0044        0.0040        0.0117   Rock  \n",
              "4          0.0072        0.0048        0.0107        0.0094   Rock  \n",
              "..            ...           ...           ...           ...    ...  \n",
              "203        0.0065        0.0115        0.0193        0.0157   Mine  \n",
              "204        0.0034        0.0032        0.0062        0.0067   Mine  \n",
              "205        0.0140        0.0138        0.0077        0.0031   Mine  \n",
              "206        0.0034        0.0079        0.0036        0.0048   Mine  \n",
              "207        0.0040        0.0036        0.0061        0.0115   Mine  \n",
              "\n",
              "[208 rows x 61 columns]"
            ],
            "text/html": [
              "\n",
              "  <div id=\"df-db8e1eca-5897-46f3-931d-008e02526382\">\n",
              "    <div class=\"colab-df-container\">\n",
              "      <div>\n",
              "<style scoped>\n",
              "    .dataframe tbody tr th:only-of-type {\n",
              "        vertical-align: middle;\n",
              "    }\n",
              "\n",
              "    .dataframe tbody tr th {\n",
              "        vertical-align: top;\n",
              "    }\n",
              "\n",
              "    .dataframe thead th {\n",
              "        text-align: right;\n",
              "    }\n",
              "</style>\n",
              "<table border=\"1\" class=\"dataframe\">\n",
              "  <thead>\n",
              "    <tr style=\"text-align: right;\">\n",
              "      <th></th>\n",
              "      <th>attribute_1</th>\n",
              "      <th>attribute_2</th>\n",
              "      <th>attribute_3</th>\n",
              "      <th>attribute_4</th>\n",
              "      <th>attribute_5</th>\n",
              "      <th>attribute_6</th>\n",
              "      <th>attribute_7</th>\n",
              "      <th>attribute_8</th>\n",
              "      <th>attribute_9</th>\n",
              "      <th>attribute_10</th>\n",
              "      <th>...</th>\n",
              "      <th>attribute_52</th>\n",
              "      <th>attribute_53</th>\n",
              "      <th>attribute_54</th>\n",
              "      <th>attribute_55</th>\n",
              "      <th>attribute_56</th>\n",
              "      <th>attribute_57</th>\n",
              "      <th>attribute_58</th>\n",
              "      <th>attribute_59</th>\n",
              "      <th>attribute_60</th>\n",
              "      <th>Class</th>\n",
              "    </tr>\n",
              "  </thead>\n",
              "  <tbody>\n",
              "    <tr>\n",
              "      <th>0</th>\n",
              "      <td>0.0200</td>\n",
              "      <td>0.0371</td>\n",
              "      <td>0.0428</td>\n",
              "      <td>0.0207</td>\n",
              "      <td>0.0954</td>\n",
              "      <td>0.0986</td>\n",
              "      <td>0.1539</td>\n",
              "      <td>0.1601</td>\n",
              "      <td>0.3109</td>\n",
              "      <td>0.2111</td>\n",
              "      <td>...</td>\n",
              "      <td>0.0027</td>\n",
              "      <td>0.0065</td>\n",
              "      <td>0.0159</td>\n",
              "      <td>0.0072</td>\n",
              "      <td>0.0167</td>\n",
              "      <td>0.0180</td>\n",
              "      <td>0.0084</td>\n",
              "      <td>0.0090</td>\n",
              "      <td>0.0032</td>\n",
              "      <td>Rock</td>\n",
              "    </tr>\n",
              "    <tr>\n",
              "      <th>1</th>\n",
              "      <td>0.0453</td>\n",
              "      <td>0.0523</td>\n",
              "      <td>0.0843</td>\n",
              "      <td>0.0689</td>\n",
              "      <td>0.1183</td>\n",
              "      <td>0.2583</td>\n",
              "      <td>0.2156</td>\n",
              "      <td>0.3481</td>\n",
              "      <td>0.3337</td>\n",
              "      <td>0.2872</td>\n",
              "      <td>...</td>\n",
              "      <td>0.0084</td>\n",
              "      <td>0.0089</td>\n",
              "      <td>0.0048</td>\n",
              "      <td>0.0094</td>\n",
              "      <td>0.0191</td>\n",
              "      <td>0.0140</td>\n",
              "      <td>0.0049</td>\n",
              "      <td>0.0052</td>\n",
              "      <td>0.0044</td>\n",
              "      <td>Rock</td>\n",
              "    </tr>\n",
              "    <tr>\n",
              "      <th>2</th>\n",
              "      <td>0.0262</td>\n",
              "      <td>0.0582</td>\n",
              "      <td>0.1099</td>\n",
              "      <td>0.1083</td>\n",
              "      <td>0.0974</td>\n",
              "      <td>0.2280</td>\n",
              "      <td>0.2431</td>\n",
              "      <td>0.3771</td>\n",
              "      <td>0.5598</td>\n",
              "      <td>0.6194</td>\n",
              "      <td>...</td>\n",
              "      <td>0.0232</td>\n",
              "      <td>0.0166</td>\n",
              "      <td>0.0095</td>\n",
              "      <td>0.0180</td>\n",
              "      <td>0.0244</td>\n",
              "      <td>0.0316</td>\n",
              "      <td>0.0164</td>\n",
              "      <td>0.0095</td>\n",
              "      <td>0.0078</td>\n",
              "      <td>Rock</td>\n",
              "    </tr>\n",
              "    <tr>\n",
              "      <th>3</th>\n",
              "      <td>0.0100</td>\n",
              "      <td>0.0171</td>\n",
              "      <td>0.0623</td>\n",
              "      <td>0.0205</td>\n",
              "      <td>0.0205</td>\n",
              "      <td>0.0368</td>\n",
              "      <td>0.1098</td>\n",
              "      <td>0.1276</td>\n",
              "      <td>0.0598</td>\n",
              "      <td>0.1264</td>\n",
              "      <td>...</td>\n",
              "      <td>0.0121</td>\n",
              "      <td>0.0036</td>\n",
              "      <td>0.0150</td>\n",
              "      <td>0.0085</td>\n",
              "      <td>0.0073</td>\n",
              "      <td>0.0050</td>\n",
              "      <td>0.0044</td>\n",
              "      <td>0.0040</td>\n",
              "      <td>0.0117</td>\n",
              "      <td>Rock</td>\n",
              "    </tr>\n",
              "    <tr>\n",
              "      <th>4</th>\n",
              "      <td>0.0762</td>\n",
              "      <td>0.0666</td>\n",
              "      <td>0.0481</td>\n",
              "      <td>0.0394</td>\n",
              "      <td>0.0590</td>\n",
              "      <td>0.0649</td>\n",
              "      <td>0.1209</td>\n",
              "      <td>0.2467</td>\n",
              "      <td>0.3564</td>\n",
              "      <td>0.4459</td>\n",
              "      <td>...</td>\n",
              "      <td>0.0031</td>\n",
              "      <td>0.0054</td>\n",
              "      <td>0.0105</td>\n",
              "      <td>0.0110</td>\n",
              "      <td>0.0015</td>\n",
              "      <td>0.0072</td>\n",
              "      <td>0.0048</td>\n",
              "      <td>0.0107</td>\n",
              "      <td>0.0094</td>\n",
              "      <td>Rock</td>\n",
              "    </tr>\n",
              "    <tr>\n",
              "      <th>...</th>\n",
              "      <td>...</td>\n",
              "      <td>...</td>\n",
              "      <td>...</td>\n",
              "      <td>...</td>\n",
              "      <td>...</td>\n",
              "      <td>...</td>\n",
              "      <td>...</td>\n",
              "      <td>...</td>\n",
              "      <td>...</td>\n",
              "      <td>...</td>\n",
              "      <td>...</td>\n",
              "      <td>...</td>\n",
              "      <td>...</td>\n",
              "      <td>...</td>\n",
              "      <td>...</td>\n",
              "      <td>...</td>\n",
              "      <td>...</td>\n",
              "      <td>...</td>\n",
              "      <td>...</td>\n",
              "      <td>...</td>\n",
              "      <td>...</td>\n",
              "    </tr>\n",
              "    <tr>\n",
              "      <th>203</th>\n",
              "      <td>0.0187</td>\n",
              "      <td>0.0346</td>\n",
              "      <td>0.0168</td>\n",
              "      <td>0.0177</td>\n",
              "      <td>0.0393</td>\n",
              "      <td>0.1630</td>\n",
              "      <td>0.2028</td>\n",
              "      <td>0.1694</td>\n",
              "      <td>0.2328</td>\n",
              "      <td>0.2684</td>\n",
              "      <td>...</td>\n",
              "      <td>0.0116</td>\n",
              "      <td>0.0098</td>\n",
              "      <td>0.0199</td>\n",
              "      <td>0.0033</td>\n",
              "      <td>0.0101</td>\n",
              "      <td>0.0065</td>\n",
              "      <td>0.0115</td>\n",
              "      <td>0.0193</td>\n",
              "      <td>0.0157</td>\n",
              "      <td>Mine</td>\n",
              "    </tr>\n",
              "    <tr>\n",
              "      <th>204</th>\n",
              "      <td>0.0323</td>\n",
              "      <td>0.0101</td>\n",
              "      <td>0.0298</td>\n",
              "      <td>0.0564</td>\n",
              "      <td>0.0760</td>\n",
              "      <td>0.0958</td>\n",
              "      <td>0.0990</td>\n",
              "      <td>0.1018</td>\n",
              "      <td>0.1030</td>\n",
              "      <td>0.2154</td>\n",
              "      <td>...</td>\n",
              "      <td>0.0061</td>\n",
              "      <td>0.0093</td>\n",
              "      <td>0.0135</td>\n",
              "      <td>0.0063</td>\n",
              "      <td>0.0063</td>\n",
              "      <td>0.0034</td>\n",
              "      <td>0.0032</td>\n",
              "      <td>0.0062</td>\n",
              "      <td>0.0067</td>\n",
              "      <td>Mine</td>\n",
              "    </tr>\n",
              "    <tr>\n",
              "      <th>205</th>\n",
              "      <td>0.0522</td>\n",
              "      <td>0.0437</td>\n",
              "      <td>0.0180</td>\n",
              "      <td>0.0292</td>\n",
              "      <td>0.0351</td>\n",
              "      <td>0.1171</td>\n",
              "      <td>0.1257</td>\n",
              "      <td>0.1178</td>\n",
              "      <td>0.1258</td>\n",
              "      <td>0.2529</td>\n",
              "      <td>...</td>\n",
              "      <td>0.0160</td>\n",
              "      <td>0.0029</td>\n",
              "      <td>0.0051</td>\n",
              "      <td>0.0062</td>\n",
              "      <td>0.0089</td>\n",
              "      <td>0.0140</td>\n",
              "      <td>0.0138</td>\n",
              "      <td>0.0077</td>\n",
              "      <td>0.0031</td>\n",
              "      <td>Mine</td>\n",
              "    </tr>\n",
              "    <tr>\n",
              "      <th>206</th>\n",
              "      <td>0.0303</td>\n",
              "      <td>0.0353</td>\n",
              "      <td>0.0490</td>\n",
              "      <td>0.0608</td>\n",
              "      <td>0.0167</td>\n",
              "      <td>0.1354</td>\n",
              "      <td>0.1465</td>\n",
              "      <td>0.1123</td>\n",
              "      <td>0.1945</td>\n",
              "      <td>0.2354</td>\n",
              "      <td>...</td>\n",
              "      <td>0.0086</td>\n",
              "      <td>0.0046</td>\n",
              "      <td>0.0126</td>\n",
              "      <td>0.0036</td>\n",
              "      <td>0.0035</td>\n",
              "      <td>0.0034</td>\n",
              "      <td>0.0079</td>\n",
              "      <td>0.0036</td>\n",
              "      <td>0.0048</td>\n",
              "      <td>Mine</td>\n",
              "    </tr>\n",
              "    <tr>\n",
              "      <th>207</th>\n",
              "      <td>0.0260</td>\n",
              "      <td>0.0363</td>\n",
              "      <td>0.0136</td>\n",
              "      <td>0.0272</td>\n",
              "      <td>0.0214</td>\n",
              "      <td>0.0338</td>\n",
              "      <td>0.0655</td>\n",
              "      <td>0.1400</td>\n",
              "      <td>0.1843</td>\n",
              "      <td>0.2354</td>\n",
              "      <td>...</td>\n",
              "      <td>0.0146</td>\n",
              "      <td>0.0129</td>\n",
              "      <td>0.0047</td>\n",
              "      <td>0.0039</td>\n",
              "      <td>0.0061</td>\n",
              "      <td>0.0040</td>\n",
              "      <td>0.0036</td>\n",
              "      <td>0.0061</td>\n",
              "      <td>0.0115</td>\n",
              "      <td>Mine</td>\n",
              "    </tr>\n",
              "  </tbody>\n",
              "</table>\n",
              "<p>208 rows × 61 columns</p>\n",
              "</div>\n",
              "      <button class=\"colab-df-convert\" onclick=\"convertToInteractive('df-db8e1eca-5897-46f3-931d-008e02526382')\"\n",
              "              title=\"Convert this dataframe to an interactive table.\"\n",
              "              style=\"display:none;\">\n",
              "        \n",
              "  <svg xmlns=\"http://www.w3.org/2000/svg\" height=\"24px\"viewBox=\"0 0 24 24\"\n",
              "       width=\"24px\">\n",
              "    <path d=\"M0 0h24v24H0V0z\" fill=\"none\"/>\n",
              "    <path d=\"M18.56 5.44l.94 2.06.94-2.06 2.06-.94-2.06-.94-.94-2.06-.94 2.06-2.06.94zm-11 1L8.5 8.5l.94-2.06 2.06-.94-2.06-.94L8.5 2.5l-.94 2.06-2.06.94zm10 10l.94 2.06.94-2.06 2.06-.94-2.06-.94-.94-2.06-.94 2.06-2.06.94z\"/><path d=\"M17.41 7.96l-1.37-1.37c-.4-.4-.92-.59-1.43-.59-.52 0-1.04.2-1.43.59L10.3 9.45l-7.72 7.72c-.78.78-.78 2.05 0 2.83L4 21.41c.39.39.9.59 1.41.59.51 0 1.02-.2 1.41-.59l7.78-7.78 2.81-2.81c.8-.78.8-2.07 0-2.86zM5.41 20L4 18.59l7.72-7.72 1.47 1.35L5.41 20z\"/>\n",
              "  </svg>\n",
              "      </button>\n",
              "      \n",
              "  <style>\n",
              "    .colab-df-container {\n",
              "      display:flex;\n",
              "      flex-wrap:wrap;\n",
              "      gap: 12px;\n",
              "    }\n",
              "\n",
              "    .colab-df-convert {\n",
              "      background-color: #E8F0FE;\n",
              "      border: none;\n",
              "      border-radius: 50%;\n",
              "      cursor: pointer;\n",
              "      display: none;\n",
              "      fill: #1967D2;\n",
              "      height: 32px;\n",
              "      padding: 0 0 0 0;\n",
              "      width: 32px;\n",
              "    }\n",
              "\n",
              "    .colab-df-convert:hover {\n",
              "      background-color: #E2EBFA;\n",
              "      box-shadow: 0px 1px 2px rgba(60, 64, 67, 0.3), 0px 1px 3px 1px rgba(60, 64, 67, 0.15);\n",
              "      fill: #174EA6;\n",
              "    }\n",
              "\n",
              "    [theme=dark] .colab-df-convert {\n",
              "      background-color: #3B4455;\n",
              "      fill: #D2E3FC;\n",
              "    }\n",
              "\n",
              "    [theme=dark] .colab-df-convert:hover {\n",
              "      background-color: #434B5C;\n",
              "      box-shadow: 0px 1px 3px 1px rgba(0, 0, 0, 0.15);\n",
              "      filter: drop-shadow(0px 1px 2px rgba(0, 0, 0, 0.3));\n",
              "      fill: #FFFFFF;\n",
              "    }\n",
              "  </style>\n",
              "\n",
              "      <script>\n",
              "        const buttonEl =\n",
              "          document.querySelector('#df-db8e1eca-5897-46f3-931d-008e02526382 button.colab-df-convert');\n",
              "        buttonEl.style.display =\n",
              "          google.colab.kernel.accessAllowed ? 'block' : 'none';\n",
              "\n",
              "        async function convertToInteractive(key) {\n",
              "          const element = document.querySelector('#df-db8e1eca-5897-46f3-931d-008e02526382');\n",
              "          const dataTable =\n",
              "            await google.colab.kernel.invokeFunction('convertToInteractive',\n",
              "                                                     [key], {});\n",
              "          if (!dataTable) return;\n",
              "\n",
              "          const docLinkHtml = 'Like what you see? Visit the ' +\n",
              "            '<a target=\"_blank\" href=https://colab.research.google.com/notebooks/data_table.ipynb>data table notebook</a>'\n",
              "            + ' to learn more about interactive tables.';\n",
              "          element.innerHTML = '';\n",
              "          dataTable['output_type'] = 'display_data';\n",
              "          await google.colab.output.renderOutput(dataTable, element);\n",
              "          const docLink = document.createElement('div');\n",
              "          docLink.innerHTML = docLinkHtml;\n",
              "          element.appendChild(docLink);\n",
              "        }\n",
              "      </script>\n",
              "    </div>\n",
              "  </div>\n",
              "  "
            ]
          },
          "metadata": {},
          "execution_count": 285
        }
      ]
    },
    {
      "cell_type": "code",
      "source": [
        "from sklearn.preprocessing import StandardScaler"
      ],
      "metadata": {
        "id": "rMfxyIlUggJc"
      },
      "execution_count": null,
      "outputs": []
    },
    {
      "cell_type": "code",
      "source": [
        "scalar = StandardScaler()"
      ],
      "metadata": {
        "id": "Xdt9x6HAgnIX"
      },
      "execution_count": null,
      "outputs": []
    },
    {
      "cell_type": "code",
      "source": [
        "scalar.fit(df.drop(\"Class\",axis=1))"
      ],
      "metadata": {
        "colab": {
          "base_uri": "https://localhost:8080/"
        },
        "id": "C1ouDB9QgrY2",
        "outputId": "5ece5a27-f223-4f7b-92ec-8c802ea260a0"
      },
      "execution_count": null,
      "outputs": [
        {
          "output_type": "execute_result",
          "data": {
            "text/plain": [
              "StandardScaler()"
            ]
          },
          "metadata": {},
          "execution_count": 288
        }
      ]
    },
    {
      "cell_type": "code",
      "source": [
        "s2 = scalar.transform(df.drop(\"Class\",axis=1))\n",
        "s2"
      ],
      "metadata": {
        "colab": {
          "base_uri": "https://localhost:8080/"
        },
        "id": "I2UtF0c4g9AZ",
        "outputId": "1bd94300-acc5-4885-a12d-26c0aa00ebad"
      },
      "execution_count": null,
      "outputs": [
        {
          "output_type": "execute_result",
          "data": {
            "text/plain": [
              "array([[-0.39955135, -0.04064823, -0.02692565, ...,  0.06987027,\n",
              "         0.17167808, -0.65894689],\n",
              "       [ 0.70353822,  0.42163039,  1.05561832, ..., -0.47240644,\n",
              "        -0.44455424, -0.41985233],\n",
              "       [-0.12922901,  0.60106749,  1.72340448, ...,  1.30935987,\n",
              "         0.25276128,  0.25758223],\n",
              "       ...,\n",
              "       [ 1.00438083,  0.16007801, -0.67384349, ...,  0.90652575,\n",
              "        -0.03913824, -0.67887143],\n",
              "       [ 0.04953255, -0.09539176,  0.13480381, ..., -0.00759783,\n",
              "        -0.70402047, -0.34015415],\n",
              "       [-0.13794908, -0.06497869, -0.78861924, ..., -0.6738235 ,\n",
              "        -0.29860448,  0.99479044]])"
            ]
          },
          "metadata": {},
          "execution_count": 289
        }
      ]
    },
    {
      "cell_type": "code",
      "source": [
        "s3 = pd.DataFrame(s2,columns=df.columns[:-1])"
      ],
      "metadata": {
        "id": "92CxN4TZhIkp"
      },
      "execution_count": null,
      "outputs": []
    },
    {
      "cell_type": "code",
      "source": [
        "x = s3"
      ],
      "metadata": {
        "id": "kFFooluPLZAE"
      },
      "execution_count": null,
      "outputs": []
    },
    {
      "cell_type": "code",
      "source": [
        "y = df.iloc[:,-1]"
      ],
      "metadata": {
        "id": "kWjv0uy4Lhmb"
      },
      "execution_count": null,
      "outputs": []
    },
    {
      "cell_type": "code",
      "source": [
        "x"
      ],
      "metadata": {
        "colab": {
          "base_uri": "https://localhost:8080/",
          "height": 488
        },
        "id": "OquOvoZ8Lm_p",
        "outputId": "902cee5c-f18b-4bae-921c-d6a279688d09"
      },
      "execution_count": null,
      "outputs": [
        {
          "output_type": "execute_result",
          "data": {
            "text/plain": [
              "     attribute_1  attribute_2  attribute_3  attribute_4  attribute_5  \\\n",
              "0      -0.399551    -0.040648    -0.026926    -0.715105     0.364456   \n",
              "1       0.703538     0.421630     1.055618     0.323330     0.777676   \n",
              "2      -0.129229     0.601067     1.723404     1.172176     0.400545   \n",
              "3      -0.835555    -0.648910     0.481740    -0.719414    -0.987079   \n",
              "4       2.050790     0.856537     0.111327    -0.312227    -0.292365   \n",
              "..           ...          ...          ...          ...          ...   \n",
              "203    -0.456232    -0.116681    -0.705146    -0.779738    -0.647842   \n",
              "204     0.136733    -0.861801    -0.366036     0.054026     0.014392   \n",
              "205     1.004381     0.160078    -0.673843    -0.531979    -0.723629   \n",
              "206     0.049533    -0.095392     0.134804     0.148821    -1.055648   \n",
              "207    -0.137949    -0.064979    -0.788619    -0.575067    -0.970839   \n",
              "\n",
              "     attribute_6  attribute_7  attribute_8  attribute_9  attribute_10  ...  \\\n",
              "0      -0.101253     0.521638     0.297843     1.125272      0.021186  ...   \n",
              "1       2.607217     1.522625     2.510982     1.318325      0.588706  ...   \n",
              "2       2.093337     1.968770     2.852370     3.232767      3.066105  ...   \n",
              "3      -1.149364    -0.193816    -0.084747    -1.000852     -0.610469  ...   \n",
              "4      -0.672796    -0.013735     1.317299     1.510531      1.772220  ...   \n",
              "..           ...          ...          ...          ...           ...  ...   \n",
              "203     0.990954     1.314965     0.407323     0.463980      0.448504  ...   \n",
              "204    -0.148740    -0.369029    -0.388465    -0.635067      0.053253  ...   \n",
              "205     0.212502     0.064137    -0.200113    -0.442014      0.332912  ...   \n",
              "206     0.522865     0.401585    -0.264859     0.139685      0.202404  ...   \n",
              "207    -1.200244    -0.912514     0.061226     0.053319      0.202404  ...   \n",
              "\n",
              "     attribute_51  attribute_52  attribute_53  attribute_54  attribute_55  \\\n",
              "0        0.595283     -1.115432     -0.597604      0.680897     -0.295646   \n",
              "1       -0.297902     -0.522349     -0.256857     -0.843151      0.015503   \n",
              "2       -1.065875      1.017585      0.836373     -0.197833      1.231812   \n",
              "3        0.670411     -0.137365     -1.009341      0.557326     -0.111785   \n",
              "4       -0.039129     -1.073812     -0.753780     -0.060532      0.241793   \n",
              "..            ...           ...           ...           ...           ...   \n",
              "203      0.353205     -0.189390     -0.129077      1.230104     -0.847228   \n",
              "204     -0.915619     -0.761663     -0.200066      0.351373     -0.422934   \n",
              "205     -0.047477      0.268428     -1.108725     -0.801960     -0.437077   \n",
              "206     -0.990747     -0.501539     -0.867363      0.227802     -0.804798   \n",
              "207      0.169559      0.122759      0.311055     -0.856881     -0.762369   \n",
              "\n",
              "     attribute_56  attribute_57  attribute_58  attribute_59  attribute_60  \n",
              "0        1.481635      1.763784      0.069870      0.171678     -0.658947  \n",
              "1        1.901046      1.070732     -0.472406     -0.444554     -0.419852  \n",
              "2        2.827246      4.120162      1.309360      0.252761      0.257582  \n",
              "3       -0.161060     -0.488635     -0.549875     -0.639154      1.034640  \n",
              "4       -1.174638     -0.107456     -0.487900      0.447361      0.576375  \n",
              "..            ...           ...           ...           ...           ...  \n",
              "203      0.328253     -0.228741      0.550172      1.841992      1.831621  \n",
              "204     -0.335815     -0.765856     -0.735798     -0.282388      0.038412  \n",
              "205      0.118548      1.070732      0.906526     -0.039138     -0.678871  \n",
              "206     -0.825128     -0.765856     -0.007598     -0.704020     -0.340154  \n",
              "207     -0.370766     -0.661898     -0.673823     -0.298604      0.994790  \n",
              "\n",
              "[208 rows x 60 columns]"
            ],
            "text/html": [
              "\n",
              "  <div id=\"df-ddc38049-fc43-43ea-9094-4c0d46e6327a\">\n",
              "    <div class=\"colab-df-container\">\n",
              "      <div>\n",
              "<style scoped>\n",
              "    .dataframe tbody tr th:only-of-type {\n",
              "        vertical-align: middle;\n",
              "    }\n",
              "\n",
              "    .dataframe tbody tr th {\n",
              "        vertical-align: top;\n",
              "    }\n",
              "\n",
              "    .dataframe thead th {\n",
              "        text-align: right;\n",
              "    }\n",
              "</style>\n",
              "<table border=\"1\" class=\"dataframe\">\n",
              "  <thead>\n",
              "    <tr style=\"text-align: right;\">\n",
              "      <th></th>\n",
              "      <th>attribute_1</th>\n",
              "      <th>attribute_2</th>\n",
              "      <th>attribute_3</th>\n",
              "      <th>attribute_4</th>\n",
              "      <th>attribute_5</th>\n",
              "      <th>attribute_6</th>\n",
              "      <th>attribute_7</th>\n",
              "      <th>attribute_8</th>\n",
              "      <th>attribute_9</th>\n",
              "      <th>attribute_10</th>\n",
              "      <th>...</th>\n",
              "      <th>attribute_51</th>\n",
              "      <th>attribute_52</th>\n",
              "      <th>attribute_53</th>\n",
              "      <th>attribute_54</th>\n",
              "      <th>attribute_55</th>\n",
              "      <th>attribute_56</th>\n",
              "      <th>attribute_57</th>\n",
              "      <th>attribute_58</th>\n",
              "      <th>attribute_59</th>\n",
              "      <th>attribute_60</th>\n",
              "    </tr>\n",
              "  </thead>\n",
              "  <tbody>\n",
              "    <tr>\n",
              "      <th>0</th>\n",
              "      <td>-0.399551</td>\n",
              "      <td>-0.040648</td>\n",
              "      <td>-0.026926</td>\n",
              "      <td>-0.715105</td>\n",
              "      <td>0.364456</td>\n",
              "      <td>-0.101253</td>\n",
              "      <td>0.521638</td>\n",
              "      <td>0.297843</td>\n",
              "      <td>1.125272</td>\n",
              "      <td>0.021186</td>\n",
              "      <td>...</td>\n",
              "      <td>0.595283</td>\n",
              "      <td>-1.115432</td>\n",
              "      <td>-0.597604</td>\n",
              "      <td>0.680897</td>\n",
              "      <td>-0.295646</td>\n",
              "      <td>1.481635</td>\n",
              "      <td>1.763784</td>\n",
              "      <td>0.069870</td>\n",
              "      <td>0.171678</td>\n",
              "      <td>-0.658947</td>\n",
              "    </tr>\n",
              "    <tr>\n",
              "      <th>1</th>\n",
              "      <td>0.703538</td>\n",
              "      <td>0.421630</td>\n",
              "      <td>1.055618</td>\n",
              "      <td>0.323330</td>\n",
              "      <td>0.777676</td>\n",
              "      <td>2.607217</td>\n",
              "      <td>1.522625</td>\n",
              "      <td>2.510982</td>\n",
              "      <td>1.318325</td>\n",
              "      <td>0.588706</td>\n",
              "      <td>...</td>\n",
              "      <td>-0.297902</td>\n",
              "      <td>-0.522349</td>\n",
              "      <td>-0.256857</td>\n",
              "      <td>-0.843151</td>\n",
              "      <td>0.015503</td>\n",
              "      <td>1.901046</td>\n",
              "      <td>1.070732</td>\n",
              "      <td>-0.472406</td>\n",
              "      <td>-0.444554</td>\n",
              "      <td>-0.419852</td>\n",
              "    </tr>\n",
              "    <tr>\n",
              "      <th>2</th>\n",
              "      <td>-0.129229</td>\n",
              "      <td>0.601067</td>\n",
              "      <td>1.723404</td>\n",
              "      <td>1.172176</td>\n",
              "      <td>0.400545</td>\n",
              "      <td>2.093337</td>\n",
              "      <td>1.968770</td>\n",
              "      <td>2.852370</td>\n",
              "      <td>3.232767</td>\n",
              "      <td>3.066105</td>\n",
              "      <td>...</td>\n",
              "      <td>-1.065875</td>\n",
              "      <td>1.017585</td>\n",
              "      <td>0.836373</td>\n",
              "      <td>-0.197833</td>\n",
              "      <td>1.231812</td>\n",
              "      <td>2.827246</td>\n",
              "      <td>4.120162</td>\n",
              "      <td>1.309360</td>\n",
              "      <td>0.252761</td>\n",
              "      <td>0.257582</td>\n",
              "    </tr>\n",
              "    <tr>\n",
              "      <th>3</th>\n",
              "      <td>-0.835555</td>\n",
              "      <td>-0.648910</td>\n",
              "      <td>0.481740</td>\n",
              "      <td>-0.719414</td>\n",
              "      <td>-0.987079</td>\n",
              "      <td>-1.149364</td>\n",
              "      <td>-0.193816</td>\n",
              "      <td>-0.084747</td>\n",
              "      <td>-1.000852</td>\n",
              "      <td>-0.610469</td>\n",
              "      <td>...</td>\n",
              "      <td>0.670411</td>\n",
              "      <td>-0.137365</td>\n",
              "      <td>-1.009341</td>\n",
              "      <td>0.557326</td>\n",
              "      <td>-0.111785</td>\n",
              "      <td>-0.161060</td>\n",
              "      <td>-0.488635</td>\n",
              "      <td>-0.549875</td>\n",
              "      <td>-0.639154</td>\n",
              "      <td>1.034640</td>\n",
              "    </tr>\n",
              "    <tr>\n",
              "      <th>4</th>\n",
              "      <td>2.050790</td>\n",
              "      <td>0.856537</td>\n",
              "      <td>0.111327</td>\n",
              "      <td>-0.312227</td>\n",
              "      <td>-0.292365</td>\n",
              "      <td>-0.672796</td>\n",
              "      <td>-0.013735</td>\n",
              "      <td>1.317299</td>\n",
              "      <td>1.510531</td>\n",
              "      <td>1.772220</td>\n",
              "      <td>...</td>\n",
              "      <td>-0.039129</td>\n",
              "      <td>-1.073812</td>\n",
              "      <td>-0.753780</td>\n",
              "      <td>-0.060532</td>\n",
              "      <td>0.241793</td>\n",
              "      <td>-1.174638</td>\n",
              "      <td>-0.107456</td>\n",
              "      <td>-0.487900</td>\n",
              "      <td>0.447361</td>\n",
              "      <td>0.576375</td>\n",
              "    </tr>\n",
              "    <tr>\n",
              "      <th>...</th>\n",
              "      <td>...</td>\n",
              "      <td>...</td>\n",
              "      <td>...</td>\n",
              "      <td>...</td>\n",
              "      <td>...</td>\n",
              "      <td>...</td>\n",
              "      <td>...</td>\n",
              "      <td>...</td>\n",
              "      <td>...</td>\n",
              "      <td>...</td>\n",
              "      <td>...</td>\n",
              "      <td>...</td>\n",
              "      <td>...</td>\n",
              "      <td>...</td>\n",
              "      <td>...</td>\n",
              "      <td>...</td>\n",
              "      <td>...</td>\n",
              "      <td>...</td>\n",
              "      <td>...</td>\n",
              "      <td>...</td>\n",
              "      <td>...</td>\n",
              "    </tr>\n",
              "    <tr>\n",
              "      <th>203</th>\n",
              "      <td>-0.456232</td>\n",
              "      <td>-0.116681</td>\n",
              "      <td>-0.705146</td>\n",
              "      <td>-0.779738</td>\n",
              "      <td>-0.647842</td>\n",
              "      <td>0.990954</td>\n",
              "      <td>1.314965</td>\n",
              "      <td>0.407323</td>\n",
              "      <td>0.463980</td>\n",
              "      <td>0.448504</td>\n",
              "      <td>...</td>\n",
              "      <td>0.353205</td>\n",
              "      <td>-0.189390</td>\n",
              "      <td>-0.129077</td>\n",
              "      <td>1.230104</td>\n",
              "      <td>-0.847228</td>\n",
              "      <td>0.328253</td>\n",
              "      <td>-0.228741</td>\n",
              "      <td>0.550172</td>\n",
              "      <td>1.841992</td>\n",
              "      <td>1.831621</td>\n",
              "    </tr>\n",
              "    <tr>\n",
              "      <th>204</th>\n",
              "      <td>0.136733</td>\n",
              "      <td>-0.861801</td>\n",
              "      <td>-0.366036</td>\n",
              "      <td>0.054026</td>\n",
              "      <td>0.014392</td>\n",
              "      <td>-0.148740</td>\n",
              "      <td>-0.369029</td>\n",
              "      <td>-0.388465</td>\n",
              "      <td>-0.635067</td>\n",
              "      <td>0.053253</td>\n",
              "      <td>...</td>\n",
              "      <td>-0.915619</td>\n",
              "      <td>-0.761663</td>\n",
              "      <td>-0.200066</td>\n",
              "      <td>0.351373</td>\n",
              "      <td>-0.422934</td>\n",
              "      <td>-0.335815</td>\n",
              "      <td>-0.765856</td>\n",
              "      <td>-0.735798</td>\n",
              "      <td>-0.282388</td>\n",
              "      <td>0.038412</td>\n",
              "    </tr>\n",
              "    <tr>\n",
              "      <th>205</th>\n",
              "      <td>1.004381</td>\n",
              "      <td>0.160078</td>\n",
              "      <td>-0.673843</td>\n",
              "      <td>-0.531979</td>\n",
              "      <td>-0.723629</td>\n",
              "      <td>0.212502</td>\n",
              "      <td>0.064137</td>\n",
              "      <td>-0.200113</td>\n",
              "      <td>-0.442014</td>\n",
              "      <td>0.332912</td>\n",
              "      <td>...</td>\n",
              "      <td>-0.047477</td>\n",
              "      <td>0.268428</td>\n",
              "      <td>-1.108725</td>\n",
              "      <td>-0.801960</td>\n",
              "      <td>-0.437077</td>\n",
              "      <td>0.118548</td>\n",
              "      <td>1.070732</td>\n",
              "      <td>0.906526</td>\n",
              "      <td>-0.039138</td>\n",
              "      <td>-0.678871</td>\n",
              "    </tr>\n",
              "    <tr>\n",
              "      <th>206</th>\n",
              "      <td>0.049533</td>\n",
              "      <td>-0.095392</td>\n",
              "      <td>0.134804</td>\n",
              "      <td>0.148821</td>\n",
              "      <td>-1.055648</td>\n",
              "      <td>0.522865</td>\n",
              "      <td>0.401585</td>\n",
              "      <td>-0.264859</td>\n",
              "      <td>0.139685</td>\n",
              "      <td>0.202404</td>\n",
              "      <td>...</td>\n",
              "      <td>-0.990747</td>\n",
              "      <td>-0.501539</td>\n",
              "      <td>-0.867363</td>\n",
              "      <td>0.227802</td>\n",
              "      <td>-0.804798</td>\n",
              "      <td>-0.825128</td>\n",
              "      <td>-0.765856</td>\n",
              "      <td>-0.007598</td>\n",
              "      <td>-0.704020</td>\n",
              "      <td>-0.340154</td>\n",
              "    </tr>\n",
              "    <tr>\n",
              "      <th>207</th>\n",
              "      <td>-0.137949</td>\n",
              "      <td>-0.064979</td>\n",
              "      <td>-0.788619</td>\n",
              "      <td>-0.575067</td>\n",
              "      <td>-0.970839</td>\n",
              "      <td>-1.200244</td>\n",
              "      <td>-0.912514</td>\n",
              "      <td>0.061226</td>\n",
              "      <td>0.053319</td>\n",
              "      <td>0.202404</td>\n",
              "      <td>...</td>\n",
              "      <td>0.169559</td>\n",
              "      <td>0.122759</td>\n",
              "      <td>0.311055</td>\n",
              "      <td>-0.856881</td>\n",
              "      <td>-0.762369</td>\n",
              "      <td>-0.370766</td>\n",
              "      <td>-0.661898</td>\n",
              "      <td>-0.673823</td>\n",
              "      <td>-0.298604</td>\n",
              "      <td>0.994790</td>\n",
              "    </tr>\n",
              "  </tbody>\n",
              "</table>\n",
              "<p>208 rows × 60 columns</p>\n",
              "</div>\n",
              "      <button class=\"colab-df-convert\" onclick=\"convertToInteractive('df-ddc38049-fc43-43ea-9094-4c0d46e6327a')\"\n",
              "              title=\"Convert this dataframe to an interactive table.\"\n",
              "              style=\"display:none;\">\n",
              "        \n",
              "  <svg xmlns=\"http://www.w3.org/2000/svg\" height=\"24px\"viewBox=\"0 0 24 24\"\n",
              "       width=\"24px\">\n",
              "    <path d=\"M0 0h24v24H0V0z\" fill=\"none\"/>\n",
              "    <path d=\"M18.56 5.44l.94 2.06.94-2.06 2.06-.94-2.06-.94-.94-2.06-.94 2.06-2.06.94zm-11 1L8.5 8.5l.94-2.06 2.06-.94-2.06-.94L8.5 2.5l-.94 2.06-2.06.94zm10 10l.94 2.06.94-2.06 2.06-.94-2.06-.94-.94-2.06-.94 2.06-2.06.94z\"/><path d=\"M17.41 7.96l-1.37-1.37c-.4-.4-.92-.59-1.43-.59-.52 0-1.04.2-1.43.59L10.3 9.45l-7.72 7.72c-.78.78-.78 2.05 0 2.83L4 21.41c.39.39.9.59 1.41.59.51 0 1.02-.2 1.41-.59l7.78-7.78 2.81-2.81c.8-.78.8-2.07 0-2.86zM5.41 20L4 18.59l7.72-7.72 1.47 1.35L5.41 20z\"/>\n",
              "  </svg>\n",
              "      </button>\n",
              "      \n",
              "  <style>\n",
              "    .colab-df-container {\n",
              "      display:flex;\n",
              "      flex-wrap:wrap;\n",
              "      gap: 12px;\n",
              "    }\n",
              "\n",
              "    .colab-df-convert {\n",
              "      background-color: #E8F0FE;\n",
              "      border: none;\n",
              "      border-radius: 50%;\n",
              "      cursor: pointer;\n",
              "      display: none;\n",
              "      fill: #1967D2;\n",
              "      height: 32px;\n",
              "      padding: 0 0 0 0;\n",
              "      width: 32px;\n",
              "    }\n",
              "\n",
              "    .colab-df-convert:hover {\n",
              "      background-color: #E2EBFA;\n",
              "      box-shadow: 0px 1px 2px rgba(60, 64, 67, 0.3), 0px 1px 3px 1px rgba(60, 64, 67, 0.15);\n",
              "      fill: #174EA6;\n",
              "    }\n",
              "\n",
              "    [theme=dark] .colab-df-convert {\n",
              "      background-color: #3B4455;\n",
              "      fill: #D2E3FC;\n",
              "    }\n",
              "\n",
              "    [theme=dark] .colab-df-convert:hover {\n",
              "      background-color: #434B5C;\n",
              "      box-shadow: 0px 1px 3px 1px rgba(0, 0, 0, 0.15);\n",
              "      filter: drop-shadow(0px 1px 2px rgba(0, 0, 0, 0.3));\n",
              "      fill: #FFFFFF;\n",
              "    }\n",
              "  </style>\n",
              "\n",
              "      <script>\n",
              "        const buttonEl =\n",
              "          document.querySelector('#df-ddc38049-fc43-43ea-9094-4c0d46e6327a button.colab-df-convert');\n",
              "        buttonEl.style.display =\n",
              "          google.colab.kernel.accessAllowed ? 'block' : 'none';\n",
              "\n",
              "        async function convertToInteractive(key) {\n",
              "          const element = document.querySelector('#df-ddc38049-fc43-43ea-9094-4c0d46e6327a');\n",
              "          const dataTable =\n",
              "            await google.colab.kernel.invokeFunction('convertToInteractive',\n",
              "                                                     [key], {});\n",
              "          if (!dataTable) return;\n",
              "\n",
              "          const docLinkHtml = 'Like what you see? Visit the ' +\n",
              "            '<a target=\"_blank\" href=https://colab.research.google.com/notebooks/data_table.ipynb>data table notebook</a>'\n",
              "            + ' to learn more about interactive tables.';\n",
              "          element.innerHTML = '';\n",
              "          dataTable['output_type'] = 'display_data';\n",
              "          await google.colab.output.renderOutput(dataTable, element);\n",
              "          const docLink = document.createElement('div');\n",
              "          docLink.innerHTML = docLinkHtml;\n",
              "          element.appendChild(docLink);\n",
              "        }\n",
              "      </script>\n",
              "    </div>\n",
              "  </div>\n",
              "  "
            ]
          },
          "metadata": {},
          "execution_count": 293
        }
      ]
    },
    {
      "cell_type": "code",
      "source": [
        "y"
      ],
      "metadata": {
        "colab": {
          "base_uri": "https://localhost:8080/"
        },
        "id": "sIDDZHMxLnyp",
        "outputId": "3004c1bf-84dd-4545-d298-50e5a618faab"
      },
      "execution_count": null,
      "outputs": [
        {
          "output_type": "execute_result",
          "data": {
            "text/plain": [
              "0      Rock\n",
              "1      Rock\n",
              "2      Rock\n",
              "3      Rock\n",
              "4      Rock\n",
              "       ... \n",
              "203    Mine\n",
              "204    Mine\n",
              "205    Mine\n",
              "206    Mine\n",
              "207    Mine\n",
              "Name: Class, Length: 208, dtype: object"
            ]
          },
          "metadata": {},
          "execution_count": 294
        }
      ]
    },
    {
      "cell_type": "code",
      "source": [
        "from sklearn.model_selection import train_test_split"
      ],
      "metadata": {
        "id": "sTe0eYSPLodB"
      },
      "execution_count": null,
      "outputs": []
    },
    {
      "cell_type": "code",
      "source": [
        "x_train,x_test,y_train,y_test = train_test_split(x,y,test_size=0.5,random_state=10)"
      ],
      "metadata": {
        "id": "R-Zd6mR1Lxer"
      },
      "execution_count": null,
      "outputs": []
    },
    {
      "cell_type": "code",
      "source": [
        "from sklearn.neighbors import KNeighborsClassifier"
      ],
      "metadata": {
        "id": "2B2V72RhMDR6"
      },
      "execution_count": null,
      "outputs": []
    },
    {
      "cell_type": "code",
      "source": [
        "cknn = KNeighborsClassifier(n_neighbors=3)\n"
      ],
      "metadata": {
        "id": "nVzgN5ChMQGz"
      },
      "execution_count": null,
      "outputs": []
    },
    {
      "cell_type": "code",
      "source": [
        "cknn.fit(x_train,y_train)"
      ],
      "metadata": {
        "colab": {
          "base_uri": "https://localhost:8080/"
        },
        "id": "AsTFEiOGMW1T",
        "outputId": "831b608b-53d0-4b67-d202-62ff4a09850a"
      },
      "execution_count": null,
      "outputs": [
        {
          "output_type": "execute_result",
          "data": {
            "text/plain": [
              "KNeighborsClassifier(n_neighbors=3)"
            ]
          },
          "metadata": {},
          "execution_count": 314
        }
      ]
    },
    {
      "cell_type": "code",
      "source": [
        "y_pred = cknn.predict(x_test)"
      ],
      "metadata": {
        "id": "j6jkdU4WMcub"
      },
      "execution_count": null,
      "outputs": []
    },
    {
      "cell_type": "code",
      "source": [
        "from sklearn.metrics import accuracy_score\n",
        "print(accuracy_score(y_test,y_pred))"
      ],
      "metadata": {
        "colab": {
          "base_uri": "https://localhost:8080/"
        },
        "id": "TI4zJH0wMuUn",
        "outputId": "aa75f1f8-7be1-44df-cccd-4c7e28fff5d6"
      },
      "execution_count": null,
      "outputs": [
        {
          "output_type": "stream",
          "name": "stdout",
          "text": [
            "0.7211538461538461\n"
          ]
        }
      ]
    },
    {
      "cell_type": "code",
      "source": [
        "import numpy as np\n",
        "sample = np.linspace(0,0.3,60)\n",
        "s = sample.reshape((1,60))\n",
        "s"
      ],
      "metadata": {
        "id": "YMhMzYChM9pD",
        "colab": {
          "base_uri": "https://localhost:8080/"
        },
        "outputId": "a3993843-58e0-4a87-9e82-07e5900d1498"
      },
      "execution_count": null,
      "outputs": [
        {
          "output_type": "execute_result",
          "data": {
            "text/plain": [
              "array([[0.        , 0.00508475, 0.01016949, 0.01525424, 0.02033898,\n",
              "        0.02542373, 0.03050847, 0.03559322, 0.04067797, 0.04576271,\n",
              "        0.05084746, 0.0559322 , 0.06101695, 0.06610169, 0.07118644,\n",
              "        0.07627119, 0.08135593, 0.08644068, 0.09152542, 0.09661017,\n",
              "        0.10169492, 0.10677966, 0.11186441, 0.11694915, 0.1220339 ,\n",
              "        0.12711864, 0.13220339, 0.13728814, 0.14237288, 0.14745763,\n",
              "        0.15254237, 0.15762712, 0.16271186, 0.16779661, 0.17288136,\n",
              "        0.1779661 , 0.18305085, 0.18813559, 0.19322034, 0.19830508,\n",
              "        0.20338983, 0.20847458, 0.21355932, 0.21864407, 0.22372881,\n",
              "        0.22881356, 0.23389831, 0.23898305, 0.2440678 , 0.24915254,\n",
              "        0.25423729, 0.25932203, 0.26440678, 0.26949153, 0.27457627,\n",
              "        0.27966102, 0.28474576, 0.28983051, 0.29491525, 0.3       ]])"
            ]
          },
          "metadata": {},
          "execution_count": 302
        }
      ]
    },
    {
      "cell_type": "code",
      "source": [
        "pred  = cknn.predict(s)"
      ],
      "metadata": {
        "colab": {
          "base_uri": "https://localhost:8080/"
        },
        "id": "YXPZkyZeevKH",
        "outputId": "43d33762-6364-4ae7-b6a4-267367b18c5b"
      },
      "execution_count": null,
      "outputs": [
        {
          "output_type": "stream",
          "name": "stderr",
          "text": [
            "/usr/local/lib/python3.7/dist-packages/sklearn/base.py:451: UserWarning: X does not have valid feature names, but KNeighborsClassifier was fitted with feature names\n",
            "  \"X does not have valid feature names, but\"\n"
          ]
        }
      ]
    },
    {
      "cell_type": "code",
      "source": [
        "training_accuracy = []\n",
        "testing_accuracy = []\n",
        "for i in range(1,100):\n",
        "  cknn = KNeighborsClassifier(n_neighbors=i)\n",
        "  cknn.fit(x_train,y_train)\n",
        "  training_accuracy.append(cknn.score(x_train,y_train)) \n",
        "  testing_accuracy.append(cknn.score(x_test,y_test)) "
      ],
      "metadata": {
        "id": "oM5jIbG6Nffd"
      },
      "execution_count": null,
      "outputs": []
    },
    {
      "cell_type": "code",
      "source": [
        "plt.plot(range(1,100),training_accuracy,'r*-',label = \"training_accuracy\")\n",
        "plt.plot(range(1,100),testing_accuracy,'b*-',label = \"testing_accuracy\")"
      ],
      "metadata": {
        "colab": {
          "base_uri": "https://localhost:8080/",
          "height": 282
        },
        "id": "1C3JxtCsSTgz",
        "outputId": "00727c3d-134f-4542-be53-66db9bee0b5d"
      },
      "execution_count": null,
      "outputs": [
        {
          "output_type": "execute_result",
          "data": {
            "text/plain": [
              "[<matplotlib.lines.Line2D at 0x7f2cddd85450>]"
            ]
          },
          "metadata": {},
          "execution_count": 322
        },
        {
          "output_type": "display_data",
          "data": {
            "text/plain": [
              "<Figure size 432x288 with 1 Axes>"
            ],
            "image/png": "[encoded data removed]"
          },
          "metadata": {
            "needs_background": "light"
          }
        }
      ]
    },
    {
      "cell_type": "code",
      "source": [
        ""
      ],
      "metadata": {
        "id": "vDZs1OYhSfhD"
      },
      "execution_count": null,
      "outputs": []
    }
  ]
}